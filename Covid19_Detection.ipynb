{
  "nbformat": 4,
  "nbformat_minor": 0,
  "metadata": {
    "colab": {
      "name": "Covid19_Detection.ipynb",
      "provenance": [],
      "collapsed_sections": []
    },
    "kernelspec": {
      "name": "python3",
      "display_name": "Python 3"
    },
    "accelerator": "GPU"
  },
  "cells": [
    {
      "cell_type": "code",
      "metadata": {
        "id": "pwTRB4isUUHp",
        "colab_type": "code",
        "outputId": "3d9445bb-737f-4118-c44a-9016ba8dbc78",
        "colab": {
          "base_uri": "https://localhost:8080/",
          "height": 319
        }
      },
      "source": [
        "!nvidia-smi"
      ],
      "execution_count": 1,
      "outputs": [
        {
          "output_type": "stream",
          "text": [
            "Tue Mar 17 14:15:42 2020       \n",
            "+-----------------------------------------------------------------------------+\n",
            "| NVIDIA-SMI 440.59       Driver Version: 418.67       CUDA Version: 10.1     |\n",
            "|-------------------------------+----------------------+----------------------+\n",
            "| GPU  Name        Persistence-M| Bus-Id        Disp.A | Volatile Uncorr. ECC |\n",
            "| Fan  Temp  Perf  Pwr:Usage/Cap|         Memory-Usage | GPU-Util  Compute M. |\n",
            "|===============================+======================+======================|\n",
            "|   0  Tesla P4            Off  | 00000000:00:04.0 Off |                    0 |\n",
            "| N/A   36C    P8     7W /  75W |      0MiB /  7611MiB |      0%      Default |\n",
            "+-------------------------------+----------------------+----------------------+\n",
            "                                                                               \n",
            "+-----------------------------------------------------------------------------+\n",
            "| Processes:                                                       GPU Memory |\n",
            "|  GPU       PID   Type   Process name                             Usage      |\n",
            "|=============================================================================|\n",
            "|  No running processes found                                                 |\n",
            "+-----------------------------------------------------------------------------+\n"
          ],
          "name": "stdout"
        }
      ]
    },
    {
      "cell_type": "code",
      "metadata": {
        "id": "A-RzPVECUgS1",
        "colab_type": "code",
        "outputId": "1e1a81ce-8e07-4420-f03f-b60ede642a3b",
        "colab": {
          "base_uri": "https://localhost:8080/",
          "height": 141
        }
      },
      "source": [
        "!git clone https://github.com/ieee8023/covid-chestxray-dataset.git"
      ],
      "execution_count": 2,
      "outputs": [
        {
          "output_type": "stream",
          "text": [
            "Cloning into 'covid-chestxray-dataset'...\n",
            "remote: Enumerating objects: 172, done.\u001b[K\n",
            "remote: Counting objects: 100% (172/172), done.\u001b[K\n",
            "remote: Compressing objects: 100% (144/144), done.\u001b[K\n",
            "remote: Total 483 (delta 73), reused 114 (delta 28), pack-reused 311\u001b[K\n",
            "Receiving objects: 100% (483/483), 75.90 MiB | 49.92 MiB/s, done.\n",
            "Resolving deltas: 100% (180/180), done.\n"
          ],
          "name": "stdout"
        }
      ]
    },
    {
      "cell_type": "code",
      "metadata": {
        "id": "S7QaSTYTVulW",
        "colab_type": "code",
        "outputId": "36364546-9ab8-474d-969b-db9dd785a5c2",
        "colab": {
          "base_uri": "https://localhost:8080/",
          "height": 35
        }
      },
      "source": [
        "!pwd"
      ],
      "execution_count": 0,
      "outputs": [
        {
          "output_type": "stream",
          "text": [
            "/content\n"
          ],
          "name": "stdout"
        }
      ]
    },
    {
      "cell_type": "markdown",
      "metadata": {
        "id": "asRLM7nbpieE",
        "colab_type": "text"
      },
      "source": [
        "### ***PREPROCESSING***"
      ]
    },
    {
      "cell_type": "code",
      "metadata": {
        "id": "3WqqJRiYV2Sn",
        "colab_type": "code",
        "colab": {}
      },
      "source": [
        "import pandas as pd\n",
        "import os\n",
        "import shutil"
      ],
      "execution_count": 0,
      "outputs": []
    },
    {
      "cell_type": "code",
      "metadata": {
        "id": "-c06vObtWHcK",
        "colab_type": "code",
        "outputId": "b47afbbb-26d2-4941-c308-c79ed5760a06",
        "colab": {
          "base_uri": "https://localhost:8080/",
          "height": 383
        }
      },
      "source": [
        "df = pd.read_csv('/content/covid-chestxray-dataset/metadata.csv')\n",
        "df.head()"
      ],
      "execution_count": 14,
      "outputs": [
        {
          "output_type": "execute_result",
          "data": {
            "text/html": [
              "<div>\n",
              "<style scoped>\n",
              "    .dataframe tbody tr th:only-of-type {\n",
              "        vertical-align: middle;\n",
              "    }\n",
              "\n",
              "    .dataframe tbody tr th {\n",
              "        vertical-align: top;\n",
              "    }\n",
              "\n",
              "    .dataframe thead th {\n",
              "        text-align: right;\n",
              "    }\n",
              "</style>\n",
              "<table border=\"1\" class=\"dataframe\">\n",
              "  <thead>\n",
              "    <tr style=\"text-align: right;\">\n",
              "      <th></th>\n",
              "      <th>Patientid</th>\n",
              "      <th>offset</th>\n",
              "      <th>sex</th>\n",
              "      <th>age</th>\n",
              "      <th>finding</th>\n",
              "      <th>survival</th>\n",
              "      <th>view</th>\n",
              "      <th>date</th>\n",
              "      <th>location</th>\n",
              "      <th>filename</th>\n",
              "      <th>doi</th>\n",
              "      <th>url</th>\n",
              "      <th>license</th>\n",
              "      <th>clinical notes</th>\n",
              "      <th>other notes</th>\n",
              "      <th>Unnamed: 15</th>\n",
              "    </tr>\n",
              "  </thead>\n",
              "  <tbody>\n",
              "    <tr>\n",
              "      <th>0</th>\n",
              "      <td>2</td>\n",
              "      <td>0.0</td>\n",
              "      <td>M</td>\n",
              "      <td>65.0</td>\n",
              "      <td>COVID-19</td>\n",
              "      <td>Y</td>\n",
              "      <td>PA</td>\n",
              "      <td>2020</td>\n",
              "      <td>NaN</td>\n",
              "      <td>auntminnie-a-2020_01_28_23_51_6665_2020_01_28_...</td>\n",
              "      <td>10.1056/nejmc2001272</td>\n",
              "      <td>https://www.nejm.org/doi/full/10.1056/NEJMc200...</td>\n",
              "      <td>NaN</td>\n",
              "      <td>NaN</td>\n",
              "      <td>NaN</td>\n",
              "      <td>NaN</td>\n",
              "    </tr>\n",
              "    <tr>\n",
              "      <th>1</th>\n",
              "      <td>2</td>\n",
              "      <td>3.0</td>\n",
              "      <td>M</td>\n",
              "      <td>65.0</td>\n",
              "      <td>COVID-19</td>\n",
              "      <td>Y</td>\n",
              "      <td>PA</td>\n",
              "      <td>2020</td>\n",
              "      <td>NaN</td>\n",
              "      <td>auntminnie-b-2020_01_28_23_51_6665_2020_01_28_...</td>\n",
              "      <td>10.1056/nejmc2001272</td>\n",
              "      <td>https://www.nejm.org/doi/full/10.1056/NEJMc200...</td>\n",
              "      <td>NaN</td>\n",
              "      <td>NaN</td>\n",
              "      <td>NaN</td>\n",
              "      <td>NaN</td>\n",
              "    </tr>\n",
              "    <tr>\n",
              "      <th>2</th>\n",
              "      <td>2</td>\n",
              "      <td>5.0</td>\n",
              "      <td>M</td>\n",
              "      <td>65.0</td>\n",
              "      <td>COVID-19</td>\n",
              "      <td>Y</td>\n",
              "      <td>PA</td>\n",
              "      <td>2020</td>\n",
              "      <td>NaN</td>\n",
              "      <td>auntminnie-c-2020_01_28_23_51_6665_2020_01_28_...</td>\n",
              "      <td>10.1056/nejmc2001272</td>\n",
              "      <td>https://www.nejm.org/doi/full/10.1056/NEJMc200...</td>\n",
              "      <td>NaN</td>\n",
              "      <td>NaN</td>\n",
              "      <td>NaN</td>\n",
              "      <td>NaN</td>\n",
              "    </tr>\n",
              "    <tr>\n",
              "      <th>3</th>\n",
              "      <td>2</td>\n",
              "      <td>6.0</td>\n",
              "      <td>M</td>\n",
              "      <td>65.0</td>\n",
              "      <td>COVID-19</td>\n",
              "      <td>Y</td>\n",
              "      <td>PA</td>\n",
              "      <td>2020</td>\n",
              "      <td>NaN</td>\n",
              "      <td>auntminnie-d-2020_01_28_23_51_6665_2020_01_28_...</td>\n",
              "      <td>10.1056/nejmc2001272</td>\n",
              "      <td>https://www.nejm.org/doi/full/10.1056/NEJMc200...</td>\n",
              "      <td>NaN</td>\n",
              "      <td>NaN</td>\n",
              "      <td>NaN</td>\n",
              "      <td>NaN</td>\n",
              "    </tr>\n",
              "    <tr>\n",
              "      <th>4</th>\n",
              "      <td>4</td>\n",
              "      <td>0.0</td>\n",
              "      <td>F</td>\n",
              "      <td>52.0</td>\n",
              "      <td>COVID-19</td>\n",
              "      <td>NaN</td>\n",
              "      <td>PA</td>\n",
              "      <td>2020</td>\n",
              "      <td>Changhua Christian Hospital, Changhua City, Ta...</td>\n",
              "      <td>nejmc2001573_f1a.jpeg</td>\n",
              "      <td>10.1056/NEJMc2001573</td>\n",
              "      <td>https://www.nejm.org/doi/full/10.1056/NEJMc200...</td>\n",
              "      <td>NaN</td>\n",
              "      <td>diffuse infiltrates in the bilateral lower lungs</td>\n",
              "      <td>NaN</td>\n",
              "      <td>NaN</td>\n",
              "    </tr>\n",
              "  </tbody>\n",
              "</table>\n",
              "</div>"
            ],
            "text/plain": [
              "   Patientid  offset  ... other notes  Unnamed: 15\n",
              "0          2     0.0  ...         NaN          NaN\n",
              "1          2     3.0  ...         NaN          NaN\n",
              "2          2     5.0  ...         NaN          NaN\n",
              "3          2     6.0  ...         NaN          NaN\n",
              "4          4     0.0  ...         NaN          NaN\n",
              "\n",
              "[5 rows x 16 columns]"
            ]
          },
          "metadata": {
            "tags": []
          },
          "execution_count": 14
        }
      ]
    },
    {
      "cell_type": "code",
      "metadata": {
        "id": "ipNQVrEwWTEO",
        "colab_type": "code",
        "colab": {}
      },
      "source": [
        "df_covid = df[df['finding']=='COVID-19'] # we are concerned only with patients who are suffering from COVID-19"
      ],
      "execution_count": 0,
      "outputs": []
    },
    {
      "cell_type": "code",
      "metadata": {
        "id": "tAtpoPv2XNXJ",
        "colab_type": "code",
        "colab": {}
      },
      "source": [
        "df_covid_PA = df_covid[df_covid['view']=='PA'] # we will only be using the PA view of the XRAY"
      ],
      "execution_count": 0,
      "outputs": []
    },
    {
      "cell_type": "code",
      "metadata": {
        "id": "2UuZOb75cT-l",
        "colab_type": "code",
        "outputId": "8ed618b0-1f61-4afe-84fb-9dcc4c33149a",
        "colab": {
          "base_uri": "https://localhost:8080/",
          "height": 766
        }
      },
      "source": [
        "df_covid_PA.head(10)"
      ],
      "execution_count": 17,
      "outputs": [
        {
          "output_type": "execute_result",
          "data": {
            "text/html": [
              "<div>\n",
              "<style scoped>\n",
              "    .dataframe tbody tr th:only-of-type {\n",
              "        vertical-align: middle;\n",
              "    }\n",
              "\n",
              "    .dataframe tbody tr th {\n",
              "        vertical-align: top;\n",
              "    }\n",
              "\n",
              "    .dataframe thead th {\n",
              "        text-align: right;\n",
              "    }\n",
              "</style>\n",
              "<table border=\"1\" class=\"dataframe\">\n",
              "  <thead>\n",
              "    <tr style=\"text-align: right;\">\n",
              "      <th></th>\n",
              "      <th>Patientid</th>\n",
              "      <th>offset</th>\n",
              "      <th>sex</th>\n",
              "      <th>age</th>\n",
              "      <th>finding</th>\n",
              "      <th>survival</th>\n",
              "      <th>view</th>\n",
              "      <th>date</th>\n",
              "      <th>location</th>\n",
              "      <th>filename</th>\n",
              "      <th>doi</th>\n",
              "      <th>url</th>\n",
              "      <th>license</th>\n",
              "      <th>clinical notes</th>\n",
              "      <th>other notes</th>\n",
              "      <th>Unnamed: 15</th>\n",
              "    </tr>\n",
              "  </thead>\n",
              "  <tbody>\n",
              "    <tr>\n",
              "      <th>0</th>\n",
              "      <td>2</td>\n",
              "      <td>0.0</td>\n",
              "      <td>M</td>\n",
              "      <td>65.0</td>\n",
              "      <td>COVID-19</td>\n",
              "      <td>Y</td>\n",
              "      <td>PA</td>\n",
              "      <td>2020</td>\n",
              "      <td>NaN</td>\n",
              "      <td>auntminnie-a-2020_01_28_23_51_6665_2020_01_28_...</td>\n",
              "      <td>10.1056/nejmc2001272</td>\n",
              "      <td>https://www.nejm.org/doi/full/10.1056/NEJMc200...</td>\n",
              "      <td>NaN</td>\n",
              "      <td>NaN</td>\n",
              "      <td>NaN</td>\n",
              "      <td>NaN</td>\n",
              "    </tr>\n",
              "    <tr>\n",
              "      <th>1</th>\n",
              "      <td>2</td>\n",
              "      <td>3.0</td>\n",
              "      <td>M</td>\n",
              "      <td>65.0</td>\n",
              "      <td>COVID-19</td>\n",
              "      <td>Y</td>\n",
              "      <td>PA</td>\n",
              "      <td>2020</td>\n",
              "      <td>NaN</td>\n",
              "      <td>auntminnie-b-2020_01_28_23_51_6665_2020_01_28_...</td>\n",
              "      <td>10.1056/nejmc2001272</td>\n",
              "      <td>https://www.nejm.org/doi/full/10.1056/NEJMc200...</td>\n",
              "      <td>NaN</td>\n",
              "      <td>NaN</td>\n",
              "      <td>NaN</td>\n",
              "      <td>NaN</td>\n",
              "    </tr>\n",
              "    <tr>\n",
              "      <th>2</th>\n",
              "      <td>2</td>\n",
              "      <td>5.0</td>\n",
              "      <td>M</td>\n",
              "      <td>65.0</td>\n",
              "      <td>COVID-19</td>\n",
              "      <td>Y</td>\n",
              "      <td>PA</td>\n",
              "      <td>2020</td>\n",
              "      <td>NaN</td>\n",
              "      <td>auntminnie-c-2020_01_28_23_51_6665_2020_01_28_...</td>\n",
              "      <td>10.1056/nejmc2001272</td>\n",
              "      <td>https://www.nejm.org/doi/full/10.1056/NEJMc200...</td>\n",
              "      <td>NaN</td>\n",
              "      <td>NaN</td>\n",
              "      <td>NaN</td>\n",
              "      <td>NaN</td>\n",
              "    </tr>\n",
              "    <tr>\n",
              "      <th>3</th>\n",
              "      <td>2</td>\n",
              "      <td>6.0</td>\n",
              "      <td>M</td>\n",
              "      <td>65.0</td>\n",
              "      <td>COVID-19</td>\n",
              "      <td>Y</td>\n",
              "      <td>PA</td>\n",
              "      <td>2020</td>\n",
              "      <td>NaN</td>\n",
              "      <td>auntminnie-d-2020_01_28_23_51_6665_2020_01_28_...</td>\n",
              "      <td>10.1056/nejmc2001272</td>\n",
              "      <td>https://www.nejm.org/doi/full/10.1056/NEJMc200...</td>\n",
              "      <td>NaN</td>\n",
              "      <td>NaN</td>\n",
              "      <td>NaN</td>\n",
              "      <td>NaN</td>\n",
              "    </tr>\n",
              "    <tr>\n",
              "      <th>4</th>\n",
              "      <td>4</td>\n",
              "      <td>0.0</td>\n",
              "      <td>F</td>\n",
              "      <td>52.0</td>\n",
              "      <td>COVID-19</td>\n",
              "      <td>NaN</td>\n",
              "      <td>PA</td>\n",
              "      <td>2020</td>\n",
              "      <td>Changhua Christian Hospital, Changhua City, Ta...</td>\n",
              "      <td>nejmc2001573_f1a.jpeg</td>\n",
              "      <td>10.1056/NEJMc2001573</td>\n",
              "      <td>https://www.nejm.org/doi/full/10.1056/NEJMc200...</td>\n",
              "      <td>NaN</td>\n",
              "      <td>diffuse infiltrates in the bilateral lower lungs</td>\n",
              "      <td>NaN</td>\n",
              "      <td>NaN</td>\n",
              "    </tr>\n",
              "    <tr>\n",
              "      <th>5</th>\n",
              "      <td>4</td>\n",
              "      <td>5.0</td>\n",
              "      <td>F</td>\n",
              "      <td>52.0</td>\n",
              "      <td>COVID-19</td>\n",
              "      <td>NaN</td>\n",
              "      <td>PA</td>\n",
              "      <td>2020</td>\n",
              "      <td>Changhua Christian Hospital, Changhua City, Ta...</td>\n",
              "      <td>nejmc2001573_f1b.jpeg</td>\n",
              "      <td>10.1056/NEJMc2001573</td>\n",
              "      <td>https://www.nejm.org/doi/full/10.1056/NEJMc200...</td>\n",
              "      <td>NaN</td>\n",
              "      <td>progressive diffuse interstitial opacities and...</td>\n",
              "      <td>NaN</td>\n",
              "      <td>NaN</td>\n",
              "    </tr>\n",
              "    <tr>\n",
              "      <th>7</th>\n",
              "      <td>6</td>\n",
              "      <td>0.0</td>\n",
              "      <td>NaN</td>\n",
              "      <td>NaN</td>\n",
              "      <td>COVID-19</td>\n",
              "      <td>NaN</td>\n",
              "      <td>PA</td>\n",
              "      <td>2020</td>\n",
              "      <td>NaN</td>\n",
              "      <td>lancet-case2a.jpg</td>\n",
              "      <td>10.1016/S0140-6736(20)30211-7</td>\n",
              "      <td>https://www.thelancet.com/journals/lancet/arti...</td>\n",
              "      <td>NaN</td>\n",
              "      <td>Case 2: chest x-ray obtained on Jan 6 (2A). Th...</td>\n",
              "      <td>NaN</td>\n",
              "      <td>NaN</td>\n",
              "    </tr>\n",
              "    <tr>\n",
              "      <th>8</th>\n",
              "      <td>6</td>\n",
              "      <td>4.0</td>\n",
              "      <td>NaN</td>\n",
              "      <td>NaN</td>\n",
              "      <td>COVID-19</td>\n",
              "      <td>NaN</td>\n",
              "      <td>PA</td>\n",
              "      <td>2020</td>\n",
              "      <td>NaN</td>\n",
              "      <td>lancet-case2b.jpg</td>\n",
              "      <td>10.1016/S0140-6736(20)30211-7</td>\n",
              "      <td>https://www.thelancet.com/journals/lancet/arti...</td>\n",
              "      <td>NaN</td>\n",
              "      <td>Case 2: chest x-ray obtained on Jan 6 (2A). Th...</td>\n",
              "      <td>NaN</td>\n",
              "      <td>NaN</td>\n",
              "    </tr>\n",
              "    <tr>\n",
              "      <th>20</th>\n",
              "      <td>11</td>\n",
              "      <td>0.0</td>\n",
              "      <td>M</td>\n",
              "      <td>56.0</td>\n",
              "      <td>COVID-19</td>\n",
              "      <td>Y</td>\n",
              "      <td>PA</td>\n",
              "      <td>2020</td>\n",
              "      <td>Canada</td>\n",
              "      <td>1-s2.0-S0140673620303706-fx1_lrg.jpg</td>\n",
              "      <td>10.1016/S0140-6736(20)30370-6</td>\n",
              "      <td>https://www.sciencedirect.com/science/article/...</td>\n",
              "      <td>NaN</td>\n",
              "      <td>Chest x-ray shows bilateral peribronchovascula...</td>\n",
              "      <td>NaN</td>\n",
              "      <td>NaN</td>\n",
              "    </tr>\n",
              "    <tr>\n",
              "      <th>21</th>\n",
              "      <td>12</td>\n",
              "      <td>7.0</td>\n",
              "      <td>M</td>\n",
              "      <td>42.0</td>\n",
              "      <td>COVID-19</td>\n",
              "      <td>Y</td>\n",
              "      <td>PA</td>\n",
              "      <td>January 1, 2020</td>\n",
              "      <td>Tongji Medical College, Wuhan, Hubei Province,...</td>\n",
              "      <td>nCoV-radiol.2020200269.fig1-day7.jpeg</td>\n",
              "      <td>10.1148/radiol.2020200269</td>\n",
              "      <td>https://pubs.rsna.org/doi/10.1148/radiol.20202...</td>\n",
              "      <td>NaN</td>\n",
              "      <td>A, Chest radiograph obtained on day 7 after th...</td>\n",
              "      <td>NaN</td>\n",
              "      <td>NaN</td>\n",
              "    </tr>\n",
              "  </tbody>\n",
              "</table>\n",
              "</div>"
            ],
            "text/plain": [
              "    Patientid  offset  ... other notes  Unnamed: 15\n",
              "0           2     0.0  ...         NaN          NaN\n",
              "1           2     3.0  ...         NaN          NaN\n",
              "2           2     5.0  ...         NaN          NaN\n",
              "3           2     6.0  ...         NaN          NaN\n",
              "4           4     0.0  ...         NaN          NaN\n",
              "5           4     5.0  ...         NaN          NaN\n",
              "7           6     0.0  ...         NaN          NaN\n",
              "8           6     4.0  ...         NaN          NaN\n",
              "20         11     0.0  ...         NaN          NaN\n",
              "21         12     7.0  ...         NaN          NaN\n",
              "\n",
              "[10 rows x 16 columns]"
            ]
          },
          "metadata": {
            "tags": []
          },
          "execution_count": 17
        }
      ]
    },
    {
      "cell_type": "code",
      "metadata": {
        "id": "ucV7pZ5fgk2e",
        "colab_type": "code",
        "outputId": "4605611e-efd5-49f2-b8a0-c1b0f6ae2118",
        "colab": {
          "base_uri": "https://localhost:8080/",
          "height": 124
        }
      },
      "source": [
        "df_covid_PA.index"
      ],
      "execution_count": 18,
      "outputs": [
        {
          "output_type": "execute_result",
          "data": {
            "text/plain": [
              "Int64Index([  0,   1,   2,   3,   4,   5,   7,   8,  20,  21,  22,  24,  26,\n",
              "             27,  29,  30,  31,  32,  33,  39,  40,  41,  42,  43,  48,  50,\n",
              "             51,  53,  55,  70,  79,  80,  82,  83,  86,  88,  89,  90,  91,\n",
              "             92,  93,  94,  95,  96,  97,  99, 101, 105, 108, 109, 113, 114,\n",
              "            115, 116, 117, 118, 119, 122, 125],\n",
              "           dtype='int64')"
            ]
          },
          "metadata": {
            "tags": []
          },
          "execution_count": 18
        }
      ]
    },
    {
      "cell_type": "code",
      "metadata": {
        "id": "ZiBTDPyreVyD",
        "colab_type": "code",
        "colab": {}
      },
      "source": [
        "imagepath_covid = []\n",
        "for i in df_covid_PA.index:\n",
        "  imagepath_covid.append(df_covid_PA['filename'][i])"
      ],
      "execution_count": 0,
      "outputs": []
    },
    {
      "cell_type": "code",
      "metadata": {
        "id": "NNPvVROCfNBb",
        "colab_type": "code",
        "colab": {}
      },
      "source": [
        "image_dataset_mixed = os.listdir('/content/covid-chestxray-dataset/images')"
      ],
      "execution_count": 0,
      "outputs": []
    },
    {
      "cell_type": "code",
      "metadata": {
        "id": "0s2EXvebf7wf",
        "colab_type": "code",
        "colab": {}
      },
      "source": [
        "available_images_covid=list(set(imagepath_covid) & set(image_dataset_mixed))"
      ],
      "execution_count": 0,
      "outputs": []
    },
    {
      "cell_type": "code",
      "metadata": {
        "id": "Io5hkGMh3i6N",
        "colab_type": "code",
        "colab": {}
      },
      "source": [
        "!mkdir /content/image_dataset_covid/"
      ],
      "execution_count": 0,
      "outputs": []
    },
    {
      "cell_type": "code",
      "metadata": {
        "id": "kzqhcq2zkFhT",
        "colab_type": "code",
        "colab": {}
      },
      "source": [
        "\n",
        "for image in available_images_covid:\n",
        "  src = '/content/covid-chestxray-dataset/images/'\n",
        "  dst= '/content/image_dataset_covid/'\n",
        "  shutil.copy(src+image, dst+image)\n"
      ],
      "execution_count": 0,
      "outputs": []
    },
    {
      "cell_type": "code",
      "metadata": {
        "id": "i_Ssc5FNs2rl",
        "colab_type": "code",
        "outputId": "d58fef7c-77fc-45d6-a761-50e2c7a04f9b",
        "colab": {
          "base_uri": "https://localhost:8080/",
          "height": 479
        }
      },
      "source": [
        "!unzip /content/normal.zip"
      ],
      "execution_count": 41,
      "outputs": [
        {
          "output_type": "stream",
          "text": [
            "Archive:  /content/normal.zip\n",
            "  inflating: normal/IM-0033-0001-0001.jpeg  \n",
            "  inflating: normal/IM-0240-0001.jpeg  \n",
            "  inflating: normal/IM-0466-0001.jpeg  \n",
            "  inflating: normal/NORMAL2-IM-0315-0001.jpeg  \n",
            "  inflating: normal/NORMAL2-IM-0696-0001.jpeg  \n",
            "  inflating: normal/NORMAL2-IM-0869-0001.jpeg  \n",
            "  inflating: normal/NORMAL2-IM-1179-0001.jpeg  \n",
            "  inflating: normal/person1_bacteria_2.jpeg  \n",
            "  inflating: normal/person1102_bacteria_3043.jpeg  \n",
            "  inflating: normal/person1290_virus_2215.jpeg  \n",
            "  inflating: normal/person1558_bacteria_4066.jpeg  \n",
            "  inflating: normal/person1599_virus_2776.jpeg  \n",
            "  inflating: normal/person1830_bacteria_4693.jpeg  \n",
            "  inflating: normal/person1935_bacteria_4849.jpeg  \n",
            "  inflating: normal/person259_bacteria_1220.jpeg  \n",
            "  inflating: normal/person339_bacteria_1574.jpeg  \n",
            "  inflating: normal/person378_virus_761.jpeg  \n",
            "  inflating: normal/person438_bacteria_1893.jpeg  \n",
            "  inflating: normal/person525_bacteria_2216.jpeg  \n",
            "  inflating: normal/person612_bacteria_2478.jpeg  \n",
            "  inflating: normal/person651_bacteria_2543.jpeg  \n",
            "  inflating: normal/person925_virus_1582.jpeg  \n",
            "  inflating: normal/person934_virus_1595.jpeg  \n",
            "  inflating: normal/person939_bacteria_2864.jpeg  \n",
            "  inflating: normal/person989_virus_1667.jpeg  \n"
          ],
          "name": "stdout"
        }
      ]
    },
    {
      "cell_type": "code",
      "metadata": {
        "id": "KfHCaNAy4f0R",
        "colab_type": "code",
        "colab": {}
      },
      "source": [
        "!mv /content/normal/* /content/dataset/normal "
      ],
      "execution_count": 0,
      "outputs": []
    },
    {
      "cell_type": "code",
      "metadata": {
        "id": "Bkn0_LTr61iV",
        "colab_type": "code",
        "colab": {}
      },
      "source": [
        "!mv /content/image_dataset_covid/* /content/dataset/covid   #moving data of covid positive to datset directory"
      ],
      "execution_count": 0,
      "outputs": []
    },
    {
      "cell_type": "code",
      "metadata": {
        "id": "4idTQ4rs5Ke_",
        "colab_type": "code",
        "colab": {}
      },
      "source": [
        "!rm -r  /content/dataset/covid/image_dataset_covid"
      ],
      "execution_count": 0,
      "outputs": []
    },
    {
      "cell_type": "markdown",
      "metadata": {
        "id": "i_lxHND5pb9z",
        "colab_type": "text"
      },
      "source": [
        "### ***TRAINING***"
      ]
    },
    {
      "cell_type": "code",
      "metadata": {
        "id": "3HI4b2yasVrD",
        "colab_type": "code",
        "outputId": "0cd6bdd6-4923-46a7-9448-53f17a307456",
        "colab": {
          "base_uri": "https://localhost:8080/",
          "height": 64
        }
      },
      "source": [
        "from tensorflow.keras.preprocessing.image import ImageDataGenerator\n",
        "from tensorflow.keras.applications import VGG16\n",
        "from tensorflow.keras.layers import AveragePooling2D\n",
        "from tensorflow.keras.layers import Dropout\n",
        "from tensorflow.keras.layers import Flatten\n",
        "from tensorflow.keras.layers import Dense\n",
        "from tensorflow.keras.layers import Input\n",
        "from tensorflow.keras.models import Model\n",
        "from tensorflow.keras.optimizers import Adam\n",
        "from tensorflow.keras.utils import to_categorical\n",
        "from sklearn.preprocessing import LabelBinarizer\n",
        "from sklearn.model_selection import train_test_split\n",
        "from sklearn.metrics import classification_report\n",
        "from sklearn.metrics import confusion_matrix\n",
        "from imutils import paths\n",
        "import matplotlib.pyplot as plt\n",
        "import numpy as np\n",
        "import argparse\n",
        "import cv2\n",
        "import os\n"
      ],
      "execution_count": 0,
      "outputs": [
        {
          "output_type": "display_data",
          "data": {
            "text/html": [
              "<p style=\"color: red;\">\n",
              "The default version of TensorFlow in Colab will soon switch to TensorFlow 2.x.<br>\n",
              "We recommend you <a href=\"https://www.tensorflow.org/guide/migrate\" target=\"_blank\">upgrade</a> now \n",
              "or ensure your notebook will continue to use TensorFlow 1.x via the <code>%tensorflow_version 1.x</code> magic:\n",
              "<a href=\"https://colab.research.google.com/notebooks/tensorflow_version.ipynb\" target=\"_blank\">more info</a>.</p>\n"
            ],
            "text/plain": [
              "<IPython.core.display.HTML object>"
            ]
          },
          "metadata": {
            "tags": []
          }
        }
      ]
    },
    {
      "cell_type": "code",
      "metadata": {
        "id": "6N4SY8jRvLkC",
        "colab_type": "code",
        "colab": {
          "base_uri": "https://localhost:8080/",
          "height": 1000
        },
        "outputId": "a2b4b59b-33be-48ad-cfbe-559575a8d01f"
      },
      "source": [
        "!python3 training_model.py -d /content/dataset/"
      ],
      "execution_count": 48,
      "outputs": [
        {
          "output_type": "stream",
          "text": [
            "[INFO] loading images...\n",
            "WARNING:tensorflow:From /tensorflow-1.15.0/python3.6/tensorflow_core/python/ops/resource_variable_ops.py:1630: calling BaseResourceVariable.__init__ (from tensorflow.python.ops.resource_variable_ops) with constraint is deprecated and will be removed in a future version.\n",
            "Instructions for updating:\n",
            "If using Keras pass *_constraint arguments to layers.\n",
            "2020-03-17 14:52:03.230579: I tensorflow/stream_executor/platform/default/dso_loader.cc:44] Successfully opened dynamic library libcuda.so.1\n",
            "2020-03-17 14:52:03.256610: I tensorflow/stream_executor/cuda/cuda_gpu_executor.cc:983] successful NUMA node read from SysFS had negative value (-1), but there must be at least one NUMA node, so returning NUMA node zero\n",
            "2020-03-17 14:52:03.257219: I tensorflow/core/common_runtime/gpu/gpu_device.cc:1618] Found device 0 with properties: \n",
            "name: Tesla P4 major: 6 minor: 1 memoryClockRate(GHz): 1.1135\n",
            "pciBusID: 0000:00:04.0\n",
            "2020-03-17 14:52:03.257518: I tensorflow/stream_executor/platform/default/dso_loader.cc:44] Successfully opened dynamic library libcudart.so.10.1\n",
            "2020-03-17 14:52:03.259030: I tensorflow/stream_executor/platform/default/dso_loader.cc:44] Successfully opened dynamic library libcublas.so.10\n",
            "2020-03-17 14:52:03.260525: I tensorflow/stream_executor/platform/default/dso_loader.cc:44] Successfully opened dynamic library libcufft.so.10\n",
            "2020-03-17 14:52:03.260871: I tensorflow/stream_executor/platform/default/dso_loader.cc:44] Successfully opened dynamic library libcurand.so.10\n",
            "2020-03-17 14:52:03.262388: I tensorflow/stream_executor/platform/default/dso_loader.cc:44] Successfully opened dynamic library libcusolver.so.10\n",
            "2020-03-17 14:52:03.263146: I tensorflow/stream_executor/platform/default/dso_loader.cc:44] Successfully opened dynamic library libcusparse.so.10\n",
            "2020-03-17 14:52:03.266197: I tensorflow/stream_executor/platform/default/dso_loader.cc:44] Successfully opened dynamic library libcudnn.so.7\n",
            "2020-03-17 14:52:03.266321: I tensorflow/stream_executor/cuda/cuda_gpu_executor.cc:983] successful NUMA node read from SysFS had negative value (-1), but there must be at least one NUMA node, so returning NUMA node zero\n",
            "2020-03-17 14:52:03.266998: I tensorflow/stream_executor/cuda/cuda_gpu_executor.cc:983] successful NUMA node read from SysFS had negative value (-1), but there must be at least one NUMA node, so returning NUMA node zero\n",
            "2020-03-17 14:52:03.267549: I tensorflow/core/common_runtime/gpu/gpu_device.cc:1746] Adding visible gpu devices: 0\n",
            "2020-03-17 14:52:03.267861: I tensorflow/core/platform/cpu_feature_guard.cc:142] Your CPU supports instructions that this TensorFlow binary was not compiled to use: AVX512F\n",
            "2020-03-17 14:52:03.272377: I tensorflow/core/platform/profile_utils/cpu_utils.cc:94] CPU Frequency: 2000179999 Hz\n",
            "2020-03-17 14:52:03.272613: I tensorflow/compiler/xla/service/service.cc:168] XLA service 0x5ffb9c0 initialized for platform Host (this does not guarantee that XLA will be used). Devices:\n",
            "2020-03-17 14:52:03.272645: I tensorflow/compiler/xla/service/service.cc:176]   StreamExecutor device (0): Host, Default Version\n",
            "2020-03-17 14:52:03.359376: I tensorflow/stream_executor/cuda/cuda_gpu_executor.cc:983] successful NUMA node read from SysFS had negative value (-1), but there must be at least one NUMA node, so returning NUMA node zero\n",
            "2020-03-17 14:52:03.359880: I tensorflow/compiler/xla/service/service.cc:168] XLA service 0x5ffbb80 initialized for platform CUDA (this does not guarantee that XLA will be used). Devices:\n",
            "2020-03-17 14:52:03.359939: I tensorflow/compiler/xla/service/service.cc:176]   StreamExecutor device (0): Tesla P4, Compute Capability 6.1\n",
            "2020-03-17 14:52:03.360128: I tensorflow/stream_executor/cuda/cuda_gpu_executor.cc:983] successful NUMA node read from SysFS had negative value (-1), but there must be at least one NUMA node, so returning NUMA node zero\n",
            "2020-03-17 14:52:03.360480: I tensorflow/core/common_runtime/gpu/gpu_device.cc:1618] Found device 0 with properties: \n",
            "name: Tesla P4 major: 6 minor: 1 memoryClockRate(GHz): 1.1135\n",
            "pciBusID: 0000:00:04.0\n",
            "2020-03-17 14:52:03.360577: I tensorflow/stream_executor/platform/default/dso_loader.cc:44] Successfully opened dynamic library libcudart.so.10.1\n",
            "2020-03-17 14:52:03.360600: I tensorflow/stream_executor/platform/default/dso_loader.cc:44] Successfully opened dynamic library libcublas.so.10\n",
            "2020-03-17 14:52:03.360618: I tensorflow/stream_executor/platform/default/dso_loader.cc:44] Successfully opened dynamic library libcufft.so.10\n",
            "2020-03-17 14:52:03.360636: I tensorflow/stream_executor/platform/default/dso_loader.cc:44] Successfully opened dynamic library libcurand.so.10\n",
            "2020-03-17 14:52:03.360654: I tensorflow/stream_executor/platform/default/dso_loader.cc:44] Successfully opened dynamic library libcusolver.so.10\n",
            "2020-03-17 14:52:03.360671: I tensorflow/stream_executor/platform/default/dso_loader.cc:44] Successfully opened dynamic library libcusparse.so.10\n",
            "2020-03-17 14:52:03.360690: I tensorflow/stream_executor/platform/default/dso_loader.cc:44] Successfully opened dynamic library libcudnn.so.7\n",
            "2020-03-17 14:52:03.360759: I tensorflow/stream_executor/cuda/cuda_gpu_executor.cc:983] successful NUMA node read from SysFS had negative value (-1), but there must be at least one NUMA node, so returning NUMA node zero\n",
            "2020-03-17 14:52:03.361187: I tensorflow/stream_executor/cuda/cuda_gpu_executor.cc:983] successful NUMA node read from SysFS had negative value (-1), but there must be at least one NUMA node, so returning NUMA node zero\n",
            "2020-03-17 14:52:03.361538: I tensorflow/core/common_runtime/gpu/gpu_device.cc:1746] Adding visible gpu devices: 0\n",
            "2020-03-17 14:52:03.361608: I tensorflow/stream_executor/platform/default/dso_loader.cc:44] Successfully opened dynamic library libcudart.so.10.1\n",
            "2020-03-17 14:52:03.362660: I tensorflow/core/common_runtime/gpu/gpu_device.cc:1159] Device interconnect StreamExecutor with strength 1 edge matrix:\n",
            "2020-03-17 14:52:03.362692: I tensorflow/core/common_runtime/gpu/gpu_device.cc:1165]      0 \n",
            "2020-03-17 14:52:03.362705: I tensorflow/core/common_runtime/gpu/gpu_device.cc:1178] 0:   N \n",
            "2020-03-17 14:52:03.362814: I tensorflow/stream_executor/cuda/cuda_gpu_executor.cc:983] successful NUMA node read from SysFS had negative value (-1), but there must be at least one NUMA node, so returning NUMA node zero\n",
            "2020-03-17 14:52:03.363224: I tensorflow/stream_executor/cuda/cuda_gpu_executor.cc:983] successful NUMA node read from SysFS had negative value (-1), but there must be at least one NUMA node, so returning NUMA node zero\n",
            "2020-03-17 14:52:03.363567: W tensorflow/core/common_runtime/gpu/gpu_bfc_allocator.cc:39] Overriding allow_growth setting because the TF_FORCE_GPU_ALLOW_GROWTH environment variable is set. Original config value was 0.\n",
            "2020-03-17 14:52:03.363610: I tensorflow/core/common_runtime/gpu/gpu_device.cc:1304] Created TensorFlow device (/job:localhost/replica:0/task:0/device:GPU:0 with 7123 MB memory) -> physical GPU (device: 0, name: Tesla P4, pci bus id: 0000:00:04.0, compute capability: 6.1)\n",
            "[INFO] compiling model...\n",
            "[INFO] training head...\n",
            "Epoch 1/25\n",
            "WARNING:tensorflow:From /tensorflow-1.15.0/python3.6/tensorflow_core/python/ops/math_grad.py:1424: where (from tensorflow.python.ops.array_ops) is deprecated and will be removed in a future version.\n",
            "Instructions for updating:\n",
            "Use tf.where in 2.0, which has the same broadcast rule as np.where\n",
            "2020-03-17 14:52:04.821145: I tensorflow/stream_executor/platform/default/dso_loader.cc:44] Successfully opened dynamic library libcublas.so.10\n",
            "2020-03-17 14:52:05.182598: I tensorflow/stream_executor/platform/default/dso_loader.cc:44] Successfully opened dynamic library libcudnn.so.7\n",
            "7/8 [=========================>....] - ETA: 0s - loss: 0.6647 - acc: 0.6275Epoch 1/25\n",
            "17/8 [===============================================================] - 1s 39ms/sample - loss: 0.3176 - acc: 0.7059\n",
            "8/8 [==============================] - 4s 535ms/step - loss: 0.7090 - acc: 0.6271 - val_loss: 0.4921 - val_acc: 0.7059\n",
            "Epoch 2/25\n",
            "6/8 [=====================>........] - ETA: 0s - loss: 0.7320 - acc: 0.6875Epoch 1/25\n",
            "17/8 [===============================================================] - 0s 8ms/sample - loss: 0.3234 - acc: 0.7059\n",
            "8/8 [==============================] - 1s 96ms/step - loss: 0.8125 - acc: 0.6610 - val_loss: 0.4605 - val_acc: 0.7059\n",
            "Epoch 3/25\n",
            "7/8 [=========================>....] - ETA: 0s - loss: 0.6864 - acc: 0.6429Epoch 1/25\n",
            "17/8 [===============================================================] - 1s 39ms/sample - loss: 0.5200 - acc: 0.8824\n",
            "8/8 [==============================] - 1s 161ms/step - loss: 0.6863 - acc: 0.6441 - val_loss: 0.5483 - val_acc: 0.8824\n",
            "Epoch 4/25\n",
            "7/8 [=========================>....] - ETA: 0s - loss: 0.6203 - acc: 0.7647Epoch 1/25\n",
            "17/8 [===============================================================] - 0s 8ms/sample - loss: 0.4075 - acc: 0.7647\n",
            "8/8 [==============================] - 1s 92ms/step - loss: 0.6099 - acc: 0.7458 - val_loss: 0.4556 - val_acc: 0.7647\n",
            "Epoch 5/25\n",
            "7/8 [=========================>....] - ETA: 0s - loss: 0.5621 - acc: 0.6964Epoch 1/25\n",
            "17/8 [===============================================================] - 0s 9ms/sample - loss: 0.3201 - acc: 0.7059\n",
            "8/8 [==============================] - 1s 101ms/step - loss: 0.5608 - acc: 0.7188 - val_loss: 0.4024 - val_acc: 0.7059\n",
            "Epoch 6/25\n",
            "7/8 [=========================>....] - ETA: 0s - loss: 0.4644 - acc: 0.8235Epoch 1/25\n",
            "17/8 [===============================================================] - 0s 8ms/sample - loss: 0.2973 - acc: 0.7059\n",
            "8/8 [==============================] - 1s 90ms/step - loss: 0.5134 - acc: 0.7797 - val_loss: 0.3849 - val_acc: 0.7059\n",
            "Epoch 7/25\n",
            "7/8 [=========================>....] - ETA: 0s - loss: 0.4345 - acc: 0.8039Epoch 1/25\n",
            "17/8 [===============================================================] - 0s 8ms/sample - loss: 0.3393 - acc: 0.7647\n",
            "8/8 [==============================] - 1s 89ms/step - loss: 0.4692 - acc: 0.7966 - val_loss: 0.3905 - val_acc: 0.7647\n",
            "Epoch 8/25\n",
            "7/8 [=========================>....] - ETA: 0s - loss: 0.4751 - acc: 0.7451Epoch 1/25\n",
            "17/8 [===============================================================] - 0s 9ms/sample - loss: 0.3442 - acc: 0.8824\n",
            "8/8 [==============================] - 1s 91ms/step - loss: 0.4714 - acc: 0.7627 - val_loss: 0.3860 - val_acc: 0.8824\n",
            "Epoch 9/25\n",
            "7/8 [=========================>....] - ETA: 0s - loss: 0.4211 - acc: 0.8039Epoch 1/25\n",
            "17/8 [===============================================================] - 0s 8ms/sample - loss: 0.2856 - acc: 0.7647\n",
            "8/8 [==============================] - 1s 79ms/step - loss: 0.4642 - acc: 0.7797 - val_loss: 0.3524 - val_acc: 0.7647\n",
            "Epoch 10/25\n",
            "7/8 [=========================>....] - ETA: 0s - loss: 0.4179 - acc: 0.8214Epoch 1/25\n",
            "17/8 [===============================================================] - 0s 9ms/sample - loss: 0.3264 - acc: 0.9412\n",
            "8/8 [==============================] - 1s 99ms/step - loss: 0.4135 - acc: 0.8136 - val_loss: 0.3813 - val_acc: 0.9412\n",
            "Epoch 11/25\n",
            "7/8 [=========================>....] - ETA: 0s - loss: 0.3843 - acc: 0.8431Epoch 1/25\n",
            "17/8 [===============================================================] - 0s 8ms/sample - loss: 0.2848 - acc: 0.8824\n",
            "8/8 [==============================] - 1s 102ms/step - loss: 0.3709 - acc: 0.8644 - val_loss: 0.3321 - val_acc: 0.8824\n",
            "Epoch 12/25\n",
            "7/8 [=========================>....] - ETA: 0s - loss: 0.3426 - acc: 0.8235Epoch 1/25\n",
            "17/8 [===============================================================] - 0s 8ms/sample - loss: 0.2973 - acc: 0.9412\n",
            "8/8 [==============================] - 1s 99ms/step - loss: 0.3626 - acc: 0.8136 - val_loss: 0.3299 - val_acc: 0.9412\n",
            "Epoch 13/25\n",
            "7/8 [=========================>....] - ETA: 0s - loss: 0.3566 - acc: 0.8929Epoch 1/25\n",
            "17/8 [===============================================================] - 0s 10ms/sample - loss: 0.2814 - acc: 0.9412\n",
            "8/8 [==============================] - 1s 101ms/step - loss: 0.3793 - acc: 0.8814 - val_loss: 0.3334 - val_acc: 0.9412\n",
            "Epoch 14/25\n",
            "7/8 [=========================>....] - ETA: 0s - loss: 0.2663 - acc: 0.9107Epoch 1/25\n",
            "17/8 [===============================================================] - 0s 8ms/sample - loss: 0.2731 - acc: 0.9412\n",
            "8/8 [==============================] - 1s 104ms/step - loss: 0.2966 - acc: 0.8906 - val_loss: 0.3030 - val_acc: 0.9412\n",
            "Epoch 15/25\n",
            "7/8 [=========================>....] - ETA: 0s - loss: 0.4450 - acc: 0.7843Epoch 1/25\n",
            "17/8 [===============================================================] - 0s 8ms/sample - loss: 0.2819 - acc: 0.9412\n",
            "8/8 [==============================] - 1s 96ms/step - loss: 0.4490 - acc: 0.7627 - val_loss: 0.3028 - val_acc: 0.9412\n",
            "Epoch 16/25\n",
            "7/8 [=========================>....] - ETA: 0s - loss: 0.3086 - acc: 0.9020Epoch 1/25\n",
            "17/8 [===============================================================] - 0s 8ms/sample - loss: 0.2383 - acc: 0.9412\n",
            "8/8 [==============================] - 1s 93ms/step - loss: 0.3148 - acc: 0.8983 - val_loss: 0.2766 - val_acc: 0.9412\n",
            "Epoch 17/25\n",
            "7/8 [=========================>....] - ETA: 0s - loss: 0.3950 - acc: 0.8431Epoch 1/25\n",
            "17/8 [===============================================================] - 0s 8ms/sample - loss: 0.2203 - acc: 0.9412\n",
            "8/8 [==============================] - 1s 102ms/step - loss: 0.3638 - acc: 0.8644 - val_loss: 0.2635 - val_acc: 0.9412\n",
            "Epoch 18/25\n",
            "7/8 [=========================>....] - ETA: 0s - loss: 0.3516 - acc: 0.8824Epoch 1/25\n",
            "17/8 [===============================================================] - 0s 8ms/sample - loss: 0.2587 - acc: 0.9412\n",
            "8/8 [==============================] - 1s 93ms/step - loss: 0.3531 - acc: 0.8814 - val_loss: 0.2734 - val_acc: 0.9412\n",
            "Epoch 19/25\n",
            "7/8 [=========================>....] - ETA: 0s - loss: 0.3100 - acc: 0.9216Epoch 1/25\n",
            "17/8 [===============================================================] - 0s 8ms/sample - loss: 0.2917 - acc: 0.9412\n",
            "8/8 [==============================] - 1s 107ms/step - loss: 0.3138 - acc: 0.9153 - val_loss: 0.2896 - val_acc: 0.9412\n",
            "Epoch 20/25\n",
            "7/8 [=========================>....] - ETA: 0s - loss: 0.3276 - acc: 0.9216Epoch 1/25\n",
            "17/8 [===============================================================] - 0s 9ms/sample - loss: 0.2289 - acc: 0.9412\n",
            "8/8 [==============================] - 1s 107ms/step - loss: 0.3099 - acc: 0.9322 - val_loss: 0.2494 - val_acc: 0.9412\n",
            "Epoch 21/25\n",
            "7/8 [=========================>....] - ETA: 0s - loss: 0.2856 - acc: 0.9216Epoch 1/25\n",
            "17/8 [===============================================================] - 0s 8ms/sample - loss: 0.2299 - acc: 0.9412\n",
            "8/8 [==============================] - 1s 92ms/step - loss: 0.2696 - acc: 0.9322 - val_loss: 0.2472 - val_acc: 0.9412\n",
            "Epoch 22/25\n",
            "7/8 [=========================>....] - ETA: 0s - loss: 0.3063 - acc: 0.9107Epoch 1/25\n",
            "17/8 [===============================================================] - 0s 9ms/sample - loss: 0.2222 - acc: 0.9412\n",
            "8/8 [==============================] - 1s 103ms/step - loss: 0.2828 - acc: 0.9219 - val_loss: 0.2398 - val_acc: 0.9412\n",
            "Epoch 23/25\n",
            "7/8 [=========================>....] - ETA: 0s - loss: 0.3209 - acc: 0.8627Epoch 1/25\n",
            "17/8 [===============================================================] - 0s 9ms/sample - loss: 0.3403 - acc: 0.8824\n",
            "8/8 [==============================] - 1s 95ms/step - loss: 0.3267 - acc: 0.8644 - val_loss: 0.3099 - val_acc: 0.8824\n",
            "Epoch 24/25\n",
            "6/8 [=====================>........] - ETA: 0s - loss: 0.2774 - acc: 0.9767Epoch 1/25\n",
            "17/8 [===============================================================] - 0s 8ms/sample - loss: 0.2139 - acc: 0.9412\n",
            "8/8 [==============================] - 1s 85ms/step - loss: 0.2755 - acc: 0.9815 - val_loss: 0.2255 - val_acc: 0.9412\n",
            "Epoch 25/25\n",
            "7/8 [=========================>....] - ETA: 0s - loss: 0.2726 - acc: 0.8750Epoch 1/25\n",
            "17/8 [===============================================================] - 0s 9ms/sample - loss: 0.1941 - acc: 0.9412\n",
            "8/8 [==============================] - 1s 108ms/step - loss: 0.2532 - acc: 0.8906 - val_loss: 0.2118 - val_acc: 0.9412\n",
            "[INFO] evaluating network...\n",
            "              precision    recall  f1-score   support\n",
            "\n",
            "       covid       0.92      1.00      0.96        12\n",
            "      normal       1.00      0.80      0.89         5\n",
            "\n",
            "    accuracy                           0.94        17\n",
            "   macro avg       0.96      0.90      0.92        17\n",
            "weighted avg       0.95      0.94      0.94        17\n",
            "\n",
            "[[12  0]\n",
            " [ 1  4]]\n",
            "acc: 0.9412\n",
            "sensitivity: 1.0000\n",
            "specificity: 0.8000\n",
            "[INFO] saving COVID-19 detector model...\n"
          ],
          "name": "stdout"
        }
      ]
    },
    {
      "cell_type": "code",
      "metadata": {
        "id": "CYbExJho8Twv",
        "colab_type": "code",
        "colab": {}
      },
      "source": [
        ""
      ],
      "execution_count": 0,
      "outputs": []
    }
  ]
}